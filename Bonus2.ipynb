{
 "cells": [
  {
   "cell_type": "markdown",
   "metadata": {},
   "source": [
    "# Bonus 2: Parallel Computing\n",
    "\n",
    "### Name: [Gopi Miyani]\n"
   ]
  },
  {
   "cell_type": "markdown",
   "metadata": {},
   "source": [
    "## 0. You will do the following:\n",
    "\n",
    "1. Read the lecture note and the corresponding research papers.\n",
    "(https://github.com/wangshusen/DeepLearning/blob/master/LectureNotes/Parallel/Parallel.pdf)\n",
    "\n",
    "\n",
    "2. Implement federated averaging (easier) and/or decentralized optimization (harder). 2 bonus points for each. If you do both, submit them as two separate IPYNB files.\n",
    "\n",
    "\n",
    "3. Data: use the data and template of Bonus 1.\n",
    "\n",
    "\n",
    "4. Requirement for federated averaging:\n",
    "\n",
    "Use 4 worker nodes.\n",
    "Use GD and SGD (with batch size b=1).\n",
    "Set the number of local iterations to q=1 and 8.\n",
    "Plot (training) objective function against epochs. Note that one epoch means every sample is visited exactly once.\n",
    "Note also that there are 4 lines in your plot. (GD with q=1, GD with q=8, SGD with q=1, SGD with q=8.)\n",
    "\n",
    "5. Requirement for decentralized optimization:\n",
    "\n",
    "Use 7 worker nodes; the connection must be the same as the figure in the lecture note.\n",
    "Use GD.\n",
    "Try weighted averaging (give a worker's own parameter a higher weight than its neighbors' parameters) and simple averaging (everyone has the same weight).\n",
    "Plot (training) objective function against epochs. \n",
    "Note that there are at least 2 lines in your plot. (Corresponding to the weighting schemes.)\n",
    " \n",
    "\n",
    " \n",
    "\n"
   ]
  },
  {
   "cell_type": "markdown",
   "metadata": {},
   "source": [
    "# 1. Data processing\n",
    "\n",
    "- Download the Diabete dataset from https://www.csie.ntu.edu.tw/~cjlin/libsvmtools/datasets/binary/diabetes\n",
    "- Load the data using sklearn.\n",
    "- Preprocess the data."
   ]
  },
  {
   "cell_type": "markdown",
   "metadata": {},
   "source": [
    "## 1.1. Load the data"
   ]
  },
  {
   "cell_type": "code",
   "execution_count": 55,
   "metadata": {},
   "outputs": [
    {
     "name": "stdout",
     "output_type": "stream",
     "text": [
      "Shape of x: (768, 8)\n",
      "Shape of y: (768,)\n"
     ]
    }
   ],
   "source": [
    "from sklearn import datasets\n",
    "import numpy\n",
    "\n",
    "x_sparse, y = datasets.load_svmlight_file('diabetes')\n",
    "x = x_sparse.todense()\n",
    "\n",
    "print('Shape of x: ' + str(x.shape))\n",
    "print('Shape of y: ' + str(y.shape))"
   ]
  },
  {
   "cell_type": "markdown",
   "metadata": {},
   "source": [
    "## 1.2. Partition to training and test sets"
   ]
  },
  {
   "cell_type": "code",
   "execution_count": 56,
   "metadata": {},
   "outputs": [
    {
     "name": "stdout",
     "output_type": "stream",
     "text": [
      "Shape of x_train: (615, 8)\n",
      "Shape of x_test: (153, 8)\n",
      "Shape of y_train: (615, 1)\n",
      "Shape of y_test: (153, 1)\n"
     ]
    }
   ],
   "source": [
    "# partition the data to training and test sets\n",
    "n = x.shape[0]\n",
    "n_train = int(numpy.ceil(n * 0.8))\n",
    "n_test = n - n_train\n",
    "\n",
    "rand_indices = numpy.random.permutation(n)\n",
    "train_indices = rand_indices[0:n_train]\n",
    "test_indices = rand_indices[n_train:n]\n",
    "\n",
    "x_train = x[train_indices, :]\n",
    "x_test = x[test_indices, :]\n",
    "y_train = y[train_indices].reshape(n_train, 1)\n",
    "y_test = y[test_indices].reshape(n_test, 1)\n",
    "\n",
    "print('Shape of x_train: ' + str(x_train.shape))\n",
    "print('Shape of x_test: ' + str(x_test.shape))\n",
    "print('Shape of y_train: ' + str(y_train.shape))\n",
    "print('Shape of y_test: ' + str(y_test.shape))"
   ]
  },
  {
   "cell_type": "markdown",
   "metadata": {},
   "source": [
    "## 1.3. Feature scaling"
   ]
  },
  {
   "cell_type": "markdown",
   "metadata": {},
   "source": [
    "Use the standardization to trainsform both training and test features"
   ]
  },
  {
   "cell_type": "code",
   "execution_count": 57,
   "metadata": {},
   "outputs": [
    {
     "name": "stdout",
     "output_type": "stream",
     "text": [
      "test mean = \n",
      "[[ 0.06292817  0.01063182 -0.00699233 -0.06477095 -0.03569728  0.05473539\n",
      "   0.12394643  0.17639928]]\n",
      "test std = \n",
      "[[1.04738308 0.93685409 1.12869021 1.09330051 0.95301273 1.17454921\n",
      "  0.98710941 1.1021825 ]]\n"
     ]
    }
   ],
   "source": [
    "# Standardization\n",
    "import numpy\n",
    "\n",
    "# calculate mu and sig using the training set\n",
    "d = x_train.shape[1]\n",
    "mu = numpy.mean(x_train, axis=0).reshape(1, d)\n",
    "sig = numpy.std(x_train, axis=0).reshape(1, d)\n",
    "\n",
    "# transform the training features\n",
    "x_train = (x_train - mu) / (sig + 1E-6)\n",
    "\n",
    "# transform the test features\n",
    "x_test = (x_test - mu) / (sig + 1E-6)\n",
    "\n",
    "print('test mean = ')\n",
    "print(numpy.mean(x_test, axis=0))\n",
    "\n",
    "print('test std = ')\n",
    "print(numpy.std(x_test, axis=0))"
   ]
  },
  {
   "cell_type": "markdown",
   "metadata": {},
   "source": [
    "## 1.4. Add a dimension of all ones"
   ]
  },
  {
   "cell_type": "code",
   "execution_count": 58,
   "metadata": {},
   "outputs": [
    {
     "name": "stdout",
     "output_type": "stream",
     "text": [
      "Shape of x_train: (615, 9)\n",
      "Shape of x_test: (153, 9)\n"
     ]
    }
   ],
   "source": [
    "n_train, d = x_train.shape\n",
    "x_train = numpy.concatenate((x_train, numpy.ones((n_train, 1))), axis=1)\n",
    "\n",
    "n_test, d = x_test.shape\n",
    "x_test = numpy.concatenate((x_test, numpy.ones((n_test, 1))), axis=1)\n",
    "\n",
    "print('Shape of x_train: ' + str(x_train.shape))\n",
    "print('Shape of x_test: ' + str(x_test.shape))"
   ]
  },
  {
   "cell_type": "markdown",
   "metadata": {},
   "source": [
    "# 2. Logistic regression model\n",
    "\n",
    "The objective function is $Q (w; X, y) = \\frac{1}{n} \\sum_{i=1}^n \\log \\Big( 1 + \\exp \\big( - y_i x_i^T w \\big) \\Big) + \\frac{\\lambda}{2} \\| w \\|_2^2 $."
   ]
  },
  {
   "cell_type": "markdown",
   "metadata": {},
   "source": [
    "## 2.1. Worker Node"
   ]
  },
  {
   "cell_type": "code",
   "execution_count": 59,
   "metadata": {},
   "outputs": [],
   "source": [
    "class Worker:\n",
    "    def __init__(self , x, y): \n",
    "        self.x = x # s—by—d local feature matrix \n",
    "        self.y = y # s—by-1 local label matrix \n",
    "        self.s = x. shape [0] # number of local samples \n",
    "        self.d = x. shape [1] # number of features \n",
    "        self.w = numpy. zeros ((d, 1)) # d—by-1 model parameter vector \n",
    "\n",
    "    # Set the model parameters to the latest \n",
    "    def set_param(self ,w): \n",
    "        self.w = w \n",
    "\n",
    "    # Compute the local loss \n",
    "    def loss(self): \n",
    "        yx = numpy.multiply(self.y, self.x) # s—by—d matrix \n",
    "        yxw = numpy.dot(yx, self.w) # s—by-1 matrix \n",
    "        vecl = numpy.exp(-(yxw)) # s—by-1 matrix \n",
    "        vec2 = numpy.log (1 + vecl) # s—by-1 matrix \n",
    "        return numpy.sum(vec2) # loss function \n",
    "\n",
    "    # Compute the local gradient \n",
    "    def gradient(self,q): \n",
    "        yx = numpy.multiply (self.y, self.x) # s—by—d matrix \n",
    "        yxw = numpy.dot (yx, self.w) # s—by-1 matrix \n",
    "        vecl = numpy.exp(yxw) # s—by-1 matrix \n",
    "        vec2 = numpy.divide(yx, 1+vecl) # s—by—d matrix \n",
    "        g = -numpy.sum(vec2,axis=0).reshape(self.d, 1) # d—by-1 matrix return g \n",
    "        return g"
   ]
  },
  {
   "cell_type": "markdown",
   "metadata": {},
   "source": [
    "## 2.2. Server Node"
   ]
  },
  {
   "cell_type": "code",
   "execution_count": 60,
   "metadata": {},
   "outputs": [],
   "source": [
    "class Server : \n",
    "    def __init__ (self , m, n, d): \n",
    "        self.m = m # number of worker nodes \n",
    "        self.n = n # number of training samples \n",
    "        self.d = d # number of features \n",
    "        self.w = numpy.zeros ((d, 1)) # # d—by-1 model parameter vector \n",
    "        self.g = numpy.zeros ((d, 1)) # d—by-1 gradient \n",
    "        self.v = numpy.zeros ((d, 1)) # d—by —1 momentum \n",
    "        self. loss = 0 # loss function value \n",
    "        self. obj = 0 # objective function value \n",
    "        \n",
    "    def broadcast ( self ) : \n",
    "        return self.w \n",
    "\n",
    "# Sum the gradients and loss functions evaluated by the workers \n",
    "# Args: \n",
    "    # grads : a list of d—by-1 vectors\n",
    "    # losses : a list of scalars \n",
    "    \n",
    "    def aggregate (self , grads , losses ) : \n",
    "        self.g = numpy.zeros (( self.d, 1)) \n",
    "        self.loss = 0 \n",
    "        for k in range( self.m) : \n",
    "            #print(self.g)\n",
    "            #print(\"----\")\n",
    "            #print(grads[k])\n",
    "            self.g += grads[k] \n",
    "            self.loss += losses[k] \n",
    "            \n",
    "# Compute the gradient (from the loss and regularization ) \n",
    "    def gradient ( self , lam) : \n",
    "        self.g = self.g / self.n + lam * self.w \n",
    "        \n",
    "# Compute the objective function (sum of loss and regularization ) \n",
    "    def objective ( self , lam) : \n",
    "        reg = lam / 2 * numpy.sum( self.w * self.w) \n",
    "        self.obj = self.loss / self.n + reg \n",
    "        return self.obj \n",
    "    \n",
    "# Update the model parameters using accelerated gradient descent \n",
    "# Args: \n",
    "    # alpha: learning rate (step size ) \n",
    "    # beta : momentum parameter \n",
    "    def agd( self , alpha , beta) : \n",
    "        self.v *= beta \n",
    "        self.v += self.g \n",
    "        self.w -= alpha * self.v \n"
   ]
  },
  {
   "cell_type": "markdown",
   "metadata": {},
   "source": [
    "## 2.3. Initialization "
   ]
  },
  {
   "cell_type": "code",
   "execution_count": 61,
   "metadata": {},
   "outputs": [],
   "source": [
    "import math \n",
    "# Create a server and m worker nodes \n",
    "def create_server_workers (m, x, y) : \n",
    "    n, d = x. shape \n",
    "    s = math. floor (n / m) \n",
    "    server = Server (m, n, d) \n",
    "    workers = [] \n",
    "    for i in range (m) : \n",
    "        indices = list (range(i*s , (i+1)*s)) \n",
    "        worker = Worker(x [ indices , :] , y [ indices , :]) \n",
    "        workers . append ( worker ) \n",
    "    return server , workers \n",
    "\n",
    " \n",
    "m = 4 # number of worker nodes \n",
    "server , workers = create_server_workers (m, x_train , y_train ) \n"
   ]
  },
  {
   "cell_type": "code",
   "execution_count": 62,
   "metadata": {},
   "outputs": [
    {
     "name": "stdout",
     "output_type": "stream",
     "text": [
      "Objective function value = 0.6897659748011163\n",
      "Objective function value = 0.6775401123908128\n",
      "Objective function value = 0.6561613161435644\n",
      "Objective function value = 0.6295661257206712\n",
      "Objective function value = 0.6016290311027173\n",
      "Objective function value = 0.5754074408484188\n",
      "Objective function value = 0.5527686087790677\n",
      "Objective function value = 0.5344392387890108\n",
      "Objective function value = 0.520318129596414\n",
      "Objective function value = 0.5098424275394172\n"
     ]
    }
   ],
   "source": [
    "lam = 1E-6 # regularization parameter \n",
    "alpha = 1E-1 # learning rate \n",
    "beta = 0.9 # momentum parameter \n",
    "max_epoch = 10 # number of epochs \n",
    "for t in range (max_epoch) : \n",
    "    # step 1: broadcast \n",
    "    w = server.broadcast() \n",
    "    for i in range (m) : \n",
    "        workers[ i ].set_param (w) \n",
    "\n",
    "    # step 2: workers' local computations \n",
    "    grads = [] \n",
    "    losses = [] \n",
    "    q=1\n",
    "    for i in range (m) : \n",
    "        g = workers[i].gradient(q)\n",
    "        grads.append(g) \n",
    "        l = workers[i].loss() \n",
    "        losses.append( l ) \n",
    "    #print(\"grad\" + str(grads))\n",
    "    # step 3: aggregate the workers ' outputs \n",
    "    server.aggregate( grads , losses) \n",
    "\n",
    "    # step 4: server update the model parameters \n",
    "    server.gradient(lam) # compute gradient \n",
    "    obj = server.objective (lam) # compute compute objective function \n",
    "    print ('Objective function value = ' + str (obj) ) \n",
    "    server.agd (alpha , beta) # updates the model parameters \n"
   ]
  },
  {
   "cell_type": "code",
   "execution_count": 63,
   "metadata": {},
   "outputs": [],
   "source": [
    "# Calculate the objective function value\n",
    "# Inputs:\n",
    "#     w: d-by-1 matrix\n",
    "#     x: n-by-d matrix\n",
    "#     y: n-by-1 matrix\n",
    "#     lam: scalar, the regularization parameter\n",
    "# Return:\n",
    "#     objective function value (scalar)\n",
    "def objective(w, x, y, lam):\n",
    "    n, d = x.shape\n",
    "    yx = numpy.multiply(y, x) # n-by-d matrix\n",
    "    yxw = numpy.dot(yx, w) # n-by-1 matrix\n",
    "    vec1 = numpy.exp(-yxw) # n-by-1 matrix\n",
    "    vec2 = numpy.log(1 + vec1) # n-by-1 matrix\n",
    "    loss = numpy.mean(vec2) # scalar\n",
    "    reg = lam / 2 * numpy.sum(w * w) # scalar\n",
    "    return loss + reg\n",
    "    "
   ]
  },
  {
   "cell_type": "code",
   "execution_count": 64,
   "metadata": {},
   "outputs": [
    {
     "name": "stdout",
     "output_type": "stream",
     "text": [
      "Initial objective function value = 0.6931471805599453\n"
     ]
    }
   ],
   "source": [
    "# initialize w\n",
    "d = x_train.shape[1]\n",
    "w = numpy.zeros((d, 1))\n",
    "\n",
    "# evaluate the objective function value at w\n",
    "lam = 1E-6\n",
    "objval0 = objective(w, x_train, y_train, lam)\n",
    "print('Initial objective function value = ' + str(objval0))"
   ]
  },
  {
   "cell_type": "markdown",
   "metadata": {},
   "source": [
    "# 3. Numerical optimization"
   ]
  },
  {
   "cell_type": "markdown",
   "metadata": {},
   "source": [
    "## 3.1. Gradient descent\n"
   ]
  },
  {
   "cell_type": "markdown",
   "metadata": {},
   "source": [
    "The gradient at $w$ is $g = - \\frac{1}{n} \\sum_{i=1}^n \\frac{y_i x_i }{1 + \\exp ( y_i x_i^T w)} + \\lambda w$"
   ]
  },
  {
   "cell_type": "code",
   "execution_count": 65,
   "metadata": {},
   "outputs": [],
   "source": [
    "# Calculate the gradient\n",
    "# Inputs:\n",
    "#     w: d-by-1 matrix\n",
    "#     x: n-by-d matrix\n",
    "#     y: n-by-1 matrix\n",
    "#     lam: scalar, the regularization parameter\n",
    "# Return:\n",
    "#     g: g: d-by-1 matrix, full gradient\n",
    "def gradient(w, x, y, lam):\n",
    "    n, d = x.shape\n",
    "    yx = numpy.multiply(y, x) # n-by-d matrix\n",
    "    yxw = numpy.dot(yx, w) # n-by-1 matrix\n",
    "    vec1 = numpy.exp(yxw) # n-by-1 matrix\n",
    "    vec2 = numpy.divide(yx, 1+vec1) # n-by-d matrix\n",
    "    vec3 = -numpy.mean(vec2, axis=0).reshape(d, 1) # d-by-1 matrix\n",
    "    g = vec3 + lam * w\n",
    "    return g"
   ]
  },
  {
   "cell_type": "code",
   "execution_count": 66,
   "metadata": {},
   "outputs": [],
   "source": [
    "# Gradient descent for solving logistic regression\n",
    "# Inputs:\n",
    "#     x: n-by-d matrix\n",
    "#     y: n-by-1 matrix\n",
    "#     lam: scalar, the regularization parameter\n",
    "#     stepsize: scalar\n",
    "#     max_iter: integer, the maximal iterations\n",
    "#     w: d-by-1 matrix, initialization of w\n",
    "# Return:\n",
    "#     w: d-by-1 matrix, the solution\n",
    "#     objvals: a record of each iteration's objective value\n",
    "def grad_descent(x, y, lam, stepsize, max_iter=100, w=None):\n",
    "    n, d = x.shape\n",
    "    objvals = numpy.zeros(max_iter) # store the objective values\n",
    "    if w is None:\n",
    "        w = numpy.zeros((d, 1)) # zero initialization\n",
    "    \n",
    "    for t in range(max_iter):\n",
    "        objval = objective(w, x, y, lam)\n",
    "        objvals[t] = objval\n",
    "        print('Objective value at t=' + str(t) + ' is ' + str(objval))\n",
    "        g = gradient(w, x, y, lam)\n",
    "        w -= stepsize * g\n",
    "    \n",
    "    return w, objvals"
   ]
  },
  {
   "cell_type": "markdown",
   "metadata": {},
   "source": [
    "Run gradient descent."
   ]
  },
  {
   "cell_type": "code",
   "execution_count": 67,
   "metadata": {},
   "outputs": [
    {
     "name": "stdout",
     "output_type": "stream",
     "text": [
      "Objective value at t=0 is 0.6931471805599453\n",
      "Objective value at t=1 is 0.5929443919757862\n",
      "Objective value at t=2 is 0.5516037061665903\n",
      "Objective value at t=3 is 0.5293145114381133\n",
      "Objective value at t=4 is 0.5154463440683746\n",
      "Objective value at t=5 is 0.5061065052355512\n",
      "Objective value at t=6 is 0.49950067219294686\n",
      "Objective value at t=7 is 0.49467040558974085\n",
      "Objective value at t=8 is 0.4910513542048101\n",
      "Objective value at t=9 is 0.48828823173432295\n",
      "Objective value at t=10 is 0.4861463994615091\n",
      "Objective value at t=11 is 0.4844652386794547\n",
      "Objective value at t=12 is 0.48313167133135065\n",
      "Objective value at t=13 is 0.4820642537341396\n",
      "Objective value at t=14 is 0.4812031978683424\n",
      "Objective value at t=15 is 0.4805038922909274\n",
      "Objective value at t=16 is 0.4799325756508955\n",
      "Objective value at t=17 is 0.4794633788304112\n",
      "Objective value at t=18 is 0.4790762614294054\n",
      "Objective value at t=19 is 0.4787555464100609\n",
      "Objective value at t=20 is 0.4784888629534222\n",
      "Objective value at t=21 is 0.4782663729074242\n",
      "Objective value at t=22 is 0.47808019742405555\n",
      "Objective value at t=23 is 0.4779239869737724\n",
      "Objective value at t=24 is 0.4777925954165538\n",
      "Objective value at t=25 is 0.4776818305167643\n",
      "Objective value at t=26 is 0.4775882612500188\n",
      "Objective value at t=27 is 0.4775090677421779\n",
      "Objective value at t=28 is 0.47744192352001774\n",
      "Objective value at t=29 is 0.4773849024706257\n",
      "Objective value at t=30 is 0.47733640485236384\n",
      "Objective value at t=31 is 0.4772950981085867\n",
      "Objective value at t=32 is 0.4772598692650672\n",
      "Objective value at t=33 is 0.47722978645224423\n",
      "Objective value at t=34 is 0.4772040676596348\n",
      "Objective value at t=35 is 0.47718205525510016\n",
      "Objective value at t=36 is 0.477163195123753\n",
      "Objective value at t=37 is 0.47714701952704025\n",
      "Objective value at t=38 is 0.4771331329713819\n",
      "Objective value at t=39 is 0.47712120052183465\n",
      "Objective value at t=40 is 0.47711093810998983\n",
      "Objective value at t=41 is 0.47710210447439727\n",
      "Objective value at t=42 is 0.47709449444196544\n",
      "Objective value at t=43 is 0.47708793331435667\n",
      "Objective value at t=44 is 0.4770822721676056\n",
      "Objective value at t=45 is 0.4770773839085479\n",
      "Objective value at t=46 is 0.47707315996004024\n",
      "Objective value at t=47 is 0.4770695074698579\n",
      "Objective value at t=48 is 0.47706634695669786\n",
      "Objective value at t=49 is 0.4770636103217893\n",
      "Objective value at t=50 is 0.4770612391669017\n",
      "Objective value at t=51 is 0.47705918336960307\n",
      "Objective value at t=52 is 0.47705739987486856\n",
      "Objective value at t=53 is 0.4770558516689417\n",
      "Objective value at t=54 is 0.4770545069069508\n",
      "Objective value at t=55 is 0.47705333817042855\n",
      "Objective value at t=56 is 0.4770523218347286\n",
      "Objective value at t=57 is 0.47705143752953516\n",
      "Objective value at t=58 is 0.4770506676783216\n",
      "Objective value at t=59 is 0.4770499971048465\n",
      "Objective value at t=60 is 0.4770494126966285\n",
      "Objective value at t=61 is 0.47704890311690623\n",
      "Objective value at t=62 is 0.47704845855789285\n",
      "Objective value at t=63 is 0.4770480705292377\n",
      "Objective value at t=64 is 0.4770477316765303\n",
      "Objective value at t=65 is 0.4770474356254632\n",
      "Objective value at t=66 is 0.47704717684792886\n",
      "Objective value at t=67 is 0.47704695054687946\n",
      "Objective value at t=68 is 0.4770467525572536\n",
      "Objective value at t=69 is 0.47704657926066873\n",
      "Objective value at t=70 is 0.477046427511916\n",
      "Objective value at t=71 is 0.4770462945755866\n",
      "Objective value at t=72 is 0.477046178071395\n",
      "Objective value at t=73 is 0.4770460759269756\n",
      "Objective value at t=74 is 0.4770459863371095\n",
      "Objective value at t=75 is 0.4770459077284784\n",
      "Objective value at t=76 is 0.4770458387291838\n",
      "Objective value at t=77 is 0.4770457781423668\n",
      "Objective value at t=78 is 0.477045724923366\n",
      "Objective value at t=79 is 0.47704567815992666\n",
      "Objective value at t=80 is 0.4770456370550442\n",
      "Objective value at t=81 is 0.4770456009120828\n",
      "Objective value at t=82 is 0.47704556912185914\n",
      "Objective value at t=83 is 0.4770455411514286\n",
      "Objective value at t=84 is 0.4770455165343394\n",
      "Objective value at t=85 is 0.4770454948621638\n",
      "Objective value at t=86 is 0.4770454757771297\n",
      "Objective value at t=87 is 0.47704545896571054\n",
      "Objective value at t=88 is 0.4770454441530431\n",
      "Objective value at t=89 is 0.4770454310980652\n",
      "Objective value at t=90 is 0.4770454195892786\n",
      "Objective value at t=91 is 0.47704540944105334\n",
      "Objective value at t=92 is 0.47704540049040467\n",
      "Objective value at t=93 is 0.4770453925941795\n",
      "Objective value at t=94 is 0.47704538562659954\n",
      "Objective value at t=95 is 0.47704537947711523\n",
      "Objective value at t=96 is 0.47704537404852954\n",
      "Objective value at t=97 is 0.477045369255358\n",
      "Objective value at t=98 is 0.4770453650223937\n",
      "Objective value at t=99 is 0.47704536128345154\n"
     ]
    }
   ],
   "source": [
    "lam = 1E-6\n",
    "stepsize = 1.0\n",
    "w, objvals_gd = grad_descent(x_train, y_train, lam, stepsize)"
   ]
  },
  {
   "cell_type": "markdown",
   "metadata": {},
   "source": [
    "## 3.2. Stochastic gradient descent (SGD)\n",
    "\n",
    "Define $Q_i (w) = \\log \\Big( 1 + \\exp \\big( - y_i x_i^T w \\big) \\Big) + \\frac{\\lambda}{2} \\| w \\|_2^2 $.\n",
    "\n",
    "The stochastic gradient at $w$ is $g_i = \\frac{\\partial Q_i }{ \\partial w} = -\\frac{y_i x_i }{1 + \\exp ( y_i x_i^T w)} + \\lambda w$."
   ]
  },
  {
   "cell_type": "code",
   "execution_count": 68,
   "metadata": {},
   "outputs": [],
   "source": [
    "# Calculate the objective Q_i and the gradient of Q_i\n",
    "# Inputs:\n",
    "#     w: d-by-1 matrix\n",
    "#     xi: 1-by-d matrix\n",
    "#     yi: scalar\n",
    "#     lam: scalar, the regularization parameter\n",
    "# Return:\n",
    "#     obj: scalar, the objective Q_i\n",
    "#     g: d-by-1 matrix, gradient of Q_i\n",
    "def stochastic_objective_gradient(w, xi, yi, lam):\n",
    "    d = xi.shape[0]\n",
    "    yx = yi * xi # 1-by-d matrix\n",
    "    yxw = float(numpy.dot(yx, w)) # scalar\n",
    "    \n",
    "    # calculate objective function Q_i\n",
    "    loss = numpy.log(1 + numpy.exp(-yxw)) # scalar\n",
    "    reg = lam / 2 * numpy.sum(w * w) # scalar\n",
    "    obj = loss + reg\n",
    "    \n",
    "    # calculate stochastic gradient\n",
    "    g_loss = -yx.T / (1 + numpy.exp(yxw)) # d-by-1 matrix\n",
    "    g = g_loss + lam * w # d-by-1 matrix\n",
    "    \n",
    "    return obj, g"
   ]
  },
  {
   "cell_type": "code",
   "execution_count": 69,
   "metadata": {},
   "outputs": [],
   "source": [
    "# SGD for solving logistic regression\n",
    "# Inputs:\n",
    "#     x: n-by-d matrix\n",
    "#     y: n-by-1 matrix\n",
    "#     lam: scalar, the regularization parameter\n",
    "#     stepsize: scalar\n",
    "#     max_epoch: integer, the maximal epochs\n",
    "#     w: d-by-1 matrix, initialization of w\n",
    "# Return:\n",
    "#     w: the solution\n",
    "#     objvals: record of each iteration's objective value\n",
    "def sgd(x, y, lam, stepsize, max_epoch=100, w=None):\n",
    "    n, d = x.shape\n",
    "    objvals = numpy.zeros(max_epoch) # store the objective values\n",
    "    if w is None:\n",
    "        w = numpy.zeros((d, 1)) # zero initialization\n",
    "    \n",
    "    for t in range(max_epoch):\n",
    "        # randomly shuffle the samples\n",
    "        rand_indices = numpy.random.permutation(n)\n",
    "        x_rand = x[rand_indices, :]\n",
    "        y_rand = y[rand_indices, :]\n",
    "        \n",
    "        objval = 0 # accumulate the objective values\n",
    "        for i in range(n):\n",
    "            xi = x_rand[i, :] # 1-by-d matrix\n",
    "            yi = float(y_rand[i, :]) # scalar\n",
    "            obj, g = stochastic_objective_gradient(w, xi, yi, lam)\n",
    "            objval += obj\n",
    "            w -= stepsize * g\n",
    "        \n",
    "        stepsize *= 0.9 # decrease step size\n",
    "        objval /= n\n",
    "        objvals[t] = objval\n",
    "        print('Objective value at epoch t=' + str(t) + ' is ' + str(objval))\n",
    "    \n",
    "    return w, objvals"
   ]
  },
  {
   "cell_type": "markdown",
   "metadata": {},
   "source": [
    "Run SGD."
   ]
  },
  {
   "cell_type": "code",
   "execution_count": 70,
   "metadata": {},
   "outputs": [
    {
     "name": "stdout",
     "output_type": "stream",
     "text": [
      "Objective value at epoch t=0 is 0.52809130798053\n",
      "Objective value at epoch t=1 is 0.5321133061485736\n",
      "Objective value at epoch t=2 is 0.5143560880311044\n",
      "Objective value at epoch t=3 is 0.5149895098636783\n",
      "Objective value at epoch t=4 is 0.5114225054744105\n",
      "Objective value at epoch t=5 is 0.49871481189998923\n",
      "Objective value at epoch t=6 is 0.5115396747466047\n",
      "Objective value at epoch t=7 is 0.5072164939740491\n",
      "Objective value at epoch t=8 is 0.4953700925997171\n",
      "Objective value at epoch t=9 is 0.49457738321473066\n",
      "Objective value at epoch t=10 is 0.49579711341449806\n",
      "Objective value at epoch t=11 is 0.4964601584689119\n",
      "Objective value at epoch t=12 is 0.49266703867044725\n",
      "Objective value at epoch t=13 is 0.49193309158790705\n",
      "Objective value at epoch t=14 is 0.4931084540715684\n",
      "Objective value at epoch t=15 is 0.489913384373484\n",
      "Objective value at epoch t=16 is 0.4873226143615006\n",
      "Objective value at epoch t=17 is 0.48699195098891107\n",
      "Objective value at epoch t=18 is 0.4831165394607236\n",
      "Objective value at epoch t=19 is 0.4853566412804967\n",
      "Objective value at epoch t=20 is 0.48519622182456146\n",
      "Objective value at epoch t=21 is 0.48430235980789677\n",
      "Objective value at epoch t=22 is 0.4836065086968899\n",
      "Objective value at epoch t=23 is 0.48307234323931136\n",
      "Objective value at epoch t=24 is 0.48266994533144014\n",
      "Objective value at epoch t=25 is 0.48173536952399687\n",
      "Objective value at epoch t=26 is 0.48165171883112634\n",
      "Objective value at epoch t=27 is 0.4811502883714791\n",
      "Objective value at epoch t=28 is 0.4807756947371724\n",
      "Objective value at epoch t=29 is 0.48057388126869555\n",
      "Objective value at epoch t=30 is 0.48025997465946596\n",
      "Objective value at epoch t=31 is 0.47979587463381446\n",
      "Objective value at epoch t=32 is 0.4792315489589802\n",
      "Objective value at epoch t=33 is 0.47936225586610265\n",
      "Objective value at epoch t=34 is 0.4789922455085655\n",
      "Objective value at epoch t=35 is 0.4789247788511408\n",
      "Objective value at epoch t=36 is 0.47872180226841576\n",
      "Objective value at epoch t=37 is 0.4785772969824061\n",
      "Objective value at epoch t=38 is 0.4784452643940429\n",
      "Objective value at epoch t=39 is 0.47828972807324155\n",
      "Objective value at epoch t=40 is 0.4781719317974909\n",
      "Objective value at epoch t=41 is 0.4780515193820271\n",
      "Objective value at epoch t=42 is 0.47795659403971946\n",
      "Objective value at epoch t=43 is 0.4778642702269043\n",
      "Objective value at epoch t=44 is 0.47779099712493617\n",
      "Objective value at epoch t=45 is 0.4777177545537509\n",
      "Objective value at epoch t=46 is 0.4776512534668578\n",
      "Objective value at epoch t=47 is 0.4775898926231676\n",
      "Objective value at epoch t=48 is 0.4775369909191774\n",
      "Objective value at epoch t=49 is 0.47748898500000475\n",
      "Objective value at epoch t=50 is 0.4774449109378235\n",
      "Objective value at epoch t=51 is 0.4774042592886638\n",
      "Objective value at epoch t=52 is 0.4773682146195281\n",
      "Objective value at epoch t=53 is 0.4773360553101729\n",
      "Objective value at epoch t=54 is 0.47730805773252694\n",
      "Objective value at epoch t=55 is 0.47728151400763175\n",
      "Objective value at epoch t=56 is 0.47725664229390213\n",
      "Objective value at epoch t=57 is 0.47723701089632803\n",
      "Objective value at epoch t=58 is 0.47721784320561594\n",
      "Objective value at epoch t=59 is 0.47720075623064867\n",
      "Objective value at epoch t=60 is 0.4771851221770642\n",
      "Objective value at epoch t=61 is 0.47717134802939376\n",
      "Objective value at epoch t=62 is 0.47715880093440993\n",
      "Objective value at epoch t=63 is 0.47714755808491344\n",
      "Objective value at epoch t=64 is 0.4771373988639285\n",
      "Objective value at epoch t=65 is 0.47712810853375176\n",
      "Objective value at epoch t=66 is 0.4771201378083347\n",
      "Objective value at epoch t=67 is 0.47711268427221004\n",
      "Objective value at epoch t=68 is 0.47710597367918606\n",
      "Objective value at epoch t=69 is 0.47710003103927195\n",
      "Objective value at epoch t=70 is 0.47709456869355005\n",
      "Objective value at epoch t=71 is 0.47708977348701137\n",
      "Objective value at epoch t=72 is 0.47708538764830744\n",
      "Objective value at epoch t=73 is 0.47708144400307706\n",
      "Objective value at epoch t=74 is 0.4770778908260698\n",
      "Objective value at epoch t=75 is 0.4770747064497263\n",
      "Objective value at epoch t=76 is 0.47707183994703\n",
      "Objective value at epoch t=77 is 0.4770692553588919\n",
      "Objective value at epoch t=78 is 0.477066927070147\n",
      "Objective value at epoch t=79 is 0.47706482769060143\n",
      "Objective value at epoch t=80 is 0.47706294032237295\n",
      "Objective value at epoch t=81 is 0.47706124538025396\n",
      "Objective value at epoch t=82 is 0.4770597177983495\n",
      "Objective value at epoch t=83 is 0.47705834067895536\n",
      "Objective value at epoch t=84 is 0.4770571061462452\n",
      "Objective value at epoch t=85 is 0.47705599057441567\n",
      "Objective value at epoch t=86 is 0.4770549884679477\n",
      "Objective value at epoch t=87 is 0.4770540864284776\n",
      "Objective value at epoch t=88 is 0.47705327428674466\n",
      "Objective value at epoch t=89 is 0.47705254337571434\n",
      "Objective value at epoch t=90 is 0.4770518842899294\n",
      "Objective value at epoch t=91 is 0.4770512933008911\n",
      "Objective value at epoch t=92 is 0.47705076015522324\n",
      "Objective value at epoch t=93 is 0.4770502804358812\n",
      "Objective value at epoch t=94 is 0.47704984912162535\n",
      "Objective value at epoch t=95 is 0.47704946056440506\n",
      "Objective value at epoch t=96 is 0.4770491110076305\n",
      "Objective value at epoch t=97 is 0.47704879618755774\n",
      "Objective value at epoch t=98 is 0.4770485129426697\n",
      "Objective value at epoch t=99 is 0.47704825803814727\n"
     ]
    }
   ],
   "source": [
    "lam = 1E-6\n",
    "stepsize = 0.1\n",
    "w, objvals_sgd = sgd(x_train, y_train, lam, stepsize)"
   ]
  },
  {
   "cell_type": "markdown",
   "metadata": {},
   "source": [
    "# 4. Compare GD with SGD\n",
    "\n",
    "Plot objective function values against epochs."
   ]
  },
  {
   "cell_type": "code",
   "execution_count": 71,
   "metadata": {},
   "outputs": [
    {
     "data": {
      "image/png": "[encoded data removed]",
      "text/plain": [
       "<Figure size 432x288 with 1 Axes>"
      ]
     },
     "metadata": {
      "needs_background": "light"
     },
     "output_type": "display_data"
    }
   ],
   "source": [
    "import matplotlib.pyplot as plt\n",
    "%matplotlib inline\n",
    "\n",
    "fig = plt.figure(figsize=(6, 4))\n",
    "\n",
    "epochs_gd = range(len(objvals_gd))\n",
    "epochs_sgd = range(len(objvals_sgd))\n",
    "\n",
    "line0, = plt.plot(epochs_gd, objvals_gd, '--b', LineWidth=4)\n",
    "line1, = plt.plot(epochs_sgd, objvals_sgd, '-r', LineWidth=2)\n",
    "plt.xlabel('Epochs', FontSize=20)\n",
    "plt.ylabel('Objective Value', FontSize=20)\n",
    "plt.xticks(FontSize=16)\n",
    "plt.yticks(FontSize=16)\n",
    "plt.legend([line0, line1], ['GD', 'SGD'], fontsize=20)\n",
    "plt.tight_layout()\n",
    "plt.show()\n",
    "fig.savefig('compare_gd_sgd.pdf', format='pdf', dpi=1200)"
   ]
  },
  {
   "cell_type": "markdown",
   "metadata": {},
   "source": [
    "# 5. Prediction"
   ]
  },
  {
   "cell_type": "code",
   "execution_count": 72,
   "metadata": {},
   "outputs": [],
   "source": [
    "# Predict class label\n",
    "# Inputs:\n",
    "#     w: d-by-1 matrix\n",
    "#     X: m-by-d matrix\n",
    "# Return:\n",
    "#     f: m-by-1 matrix, the predictions\n",
    "def predict(w, X):\n",
    "    xw = numpy.dot(X, w)\n",
    "    f = numpy.sign(xw)\n",
    "    return f"
   ]
  },
  {
   "cell_type": "code",
   "execution_count": 73,
   "metadata": {},
   "outputs": [
    {
     "name": "stdout",
     "output_type": "stream",
     "text": [
      "Training classification error is 0.21951219512195122\n"
     ]
    }
   ],
   "source": [
    "# evaluate training error\n",
    "f_train = predict(w, x_train)\n",
    "diff = numpy.abs(f_train - y_train) / 2\n",
    "error_train = numpy.mean(diff)\n",
    "print('Training classification error is ' + str(error_train))"
   ]
  },
  {
   "cell_type": "code",
   "execution_count": 74,
   "metadata": {},
   "outputs": [
    {
     "name": "stdout",
     "output_type": "stream",
     "text": [
      "Test classification error is 0.22875816993464052\n"
     ]
    }
   ],
   "source": [
    "# evaluate test error\n",
    "f_test = predict(w, x_test)\n",
    "diff = numpy.abs(f_test - y_test) / 2\n",
    "error_test = numpy.mean(diff)\n",
    "print('Test classification error is ' + str(error_test))"
   ]
  }
 ],
 "metadata": {
  "kernelspec": {
   "display_name": "Python 3",
   "language": "python",
   "name": "python3"
  },
  "language_info": {
   "codemirror_mode": {
    "name": "ipython",
    "version": 3
   },
   "file_extension": ".py",
   "mimetype": "text/x-python",
   "name": "python",
   "nbconvert_exporter": "python",
   "pygments_lexer": "ipython3",
   "version": "3.7.5"
  }
 },
 "nbformat": 4,
 "nbformat_minor": 2
}
