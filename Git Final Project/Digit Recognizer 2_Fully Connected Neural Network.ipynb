{
 "cells": [
  {
   "cell_type": "markdown",
   "metadata": {},
   "source": [
    "# Final Project: Digit Recognizer - An Active Kaggle Competition\n",
    "##  Name: Gopi Miyani (10437266)\n",
    "### Model : Fully Connected Neural Network\n",
    "\n",
    "- Kaggle Competition Link: https://www.kaggle.com/c/digit-recognizer/overview\n",
    "- Goal: To identify digits from hand-written images\n"
   ]
  },
  {
   "cell_type": "markdown",
   "metadata": {},
   "source": [
    "## 1. Method: Fully Connected Neural Network"
   ]
  },
  {
   "cell_type": "markdown",
   "metadata": {},
   "source": [
    "### 1.1.  Load Data "
   ]
  },
  {
   "cell_type": "code",
   "execution_count": 59,
   "metadata": {},
   "outputs": [
    {
     "name": "stdout",
     "output_type": "stream",
     "text": [
      "\n",
      "Shape of train_data: (42000, 785)\n",
      "Shape of test data: (28000, 784)\n"
     ]
    }
   ],
   "source": [
    "# Import Libraries\n",
    "\n",
    "import numpy as np\n",
    "import pandas as pd\n",
    "from IPython.display import display, HTML\n",
    "\n",
    "# Load Data\n",
    "\n",
    "train_data=pd.read_csv('Data/train.csv')\n",
    "test_data=pd.read_csv('Data/test.csv')\n",
    "\n",
    "print('\\nShape of train_data: '+str(train_data.shape))\n",
    "print('Shape of test data: '+ str(test_data.shape))"
   ]
  },
  {
   "cell_type": "code",
   "execution_count": 60,
   "metadata": {},
   "outputs": [
    {
     "name": "stdout",
     "output_type": "stream",
     "text": [
      "Shape of x_train: (42000, 784)\n",
      "Shape of y_train: (42000,)\n",
      "number of classes: 10\n"
     ]
    }
   ],
   "source": [
    "# Extract input features and labels from tarinning data into x_train and y_train\n",
    "\n",
    "x_train = train_data.drop(labels='label',axis=1)\n",
    "#print('\\n------------------ x_train Data Head ------------------\\n' +str(x_train.head))\n",
    "#print('\\n------------------y_train Data Head ------------------\\n' +str(y_train.head))\n",
    "y_train=train_data['label']\n",
    "print('Shape of x_train: ' +str(x_train.shape))\n",
    "print('Shape of y_train: ' +str(y_train.shape))\n",
    "print('number of classes: ' + str(np.max(y_train) - np.min(y_train) + 1))\n"
   ]
  },
  {
   "cell_type": "markdown",
   "metadata": {},
   "source": [
    "### 1.2. Data Normalization "
   ]
  },
  {
   "cell_type": "code",
   "execution_count": 44,
   "metadata": {},
   "outputs": [
    {
     "name": "stdout",
     "output_type": "stream",
     "text": [
      "Shape of x_train(42000, 784)\n",
      "Shape of test_data(28000, 784)\n"
     ]
    }
   ],
   "source": [
    "# Normalize train and test data\n",
    "\n",
    "x_train=x_train/255.0\n",
    "test_data=test_data/255.0\n",
    "\n",
    "#print(x_train.describe())\n",
    "#print(test_data.describe())\n",
    "\n",
    "# Reshape x_tarin and test data \n",
    "#x_train=x_train.values.reshape(-1,28,28,1)\n",
    "#test_data=test_data.values.reshape(-1,28,28,1)\n",
    "\n",
    "print('Shape of x_train' +str(x_train.shape))\n",
    "print('Shape of test_data' +str(test_data.shape))"
   ]
  },
  {
   "cell_type": "markdown",
   "metadata": {},
   "source": [
    "### 1.3. Train-Validation Split "
   ]
  },
  {
   "cell_type": "code",
   "execution_count": 45,
   "metadata": {},
   "outputs": [
    {
     "name": "stdout",
     "output_type": "stream",
     "text": [
      "Shape of x_tr: (37800, 784)\n",
      "Shape of y_tr: (37800,)\n",
      "Shape of x_val: (4200, 784)\n",
      "Shape of y_val: (4200,)\n"
     ]
    }
   ],
   "source": [
    "from sklearn.model_selection import train_test_split\n",
    "\n",
    "# Train-validation split \n",
    "\n",
    "r_seed = 2\n",
    "x_tr, x_val, y_tr, y_val = train_test_split(x_train, y_train, test_size = 0.1, random_state=r_seed)\n",
    "\n",
    "\n",
    "print('Shape of x_tr: ' + str(x_tr.shape))\n",
    "print('Shape of y_tr: ' + str(y_tr.shape))\n",
    "print('Shape of x_val: ' + str(x_val.shape))\n",
    "print('Shape of y_val: ' + str(y_val.shape))\n"
   ]
  },
  {
   "cell_type": "markdown",
   "metadata": {},
   "source": [
    "### 1.4. Build Fully Connected Neural Network"
   ]
  },
  {
   "cell_type": "code",
   "execution_count": 35,
   "metadata": {},
   "outputs": [
    {
     "name": "stdout",
     "output_type": "stream",
     "text": [
      "Model: \"sequential_5\"\n",
      "_________________________________________________________________\n",
      "Layer (type)                 Output Shape              Param #   \n",
      "=================================================================\n",
      "dense_9 (Dense)              (None, 600)               471000    \n",
      "_________________________________________________________________\n",
      "dense_10 (Dense)             (None, 600)               360600    \n",
      "_________________________________________________________________\n",
      "dense_11 (Dense)             (None, 10)                6010      \n",
      "=================================================================\n",
      "Total params: 837,610\n",
      "Trainable params: 837,610\n",
      "Non-trainable params: 0\n",
      "_________________________________________________________________\n"
     ]
    }
   ],
   "source": [
    "from keras import models\n",
    "from keras import layers\n",
    "d1 = 600 # width of the 1st hidden layer\n",
    "d2 = 600 # width of the 2nd hidden layer\n",
    "model = models.Sequential()\n",
    "model.add(layers.Dense(d1, activation='relu', input_shape=(784,)))\n",
    "model.add(layers.Dense(d2, activation='relu'))\n",
    "model.add(layers.Dense(10, activation='softmax'))\n",
    "model.summary()"
   ]
  },
  {
   "cell_type": "code",
   "execution_count": 36,
   "metadata": {},
   "outputs": [],
   "source": [
    "from keras import optimizers\n",
    "model.compile(optimizers.RMSprop(lr=0.0001),\n",
    "loss='categorical_crossentropy',\n",
    "metrics=['accuracy'])"
   ]
  },
  {
   "cell_type": "code",
   "execution_count": 37,
   "metadata": {},
   "outputs": [
    {
     "name": "stdout",
     "output_type": "stream",
     "text": [
      "Train on 37800 samples, validate on 4200 samples\n",
      "Epoch 1/50\n",
      "37800/37800 [==============================] - 8s 201us/step - loss: 0.4720 - accuracy: 0.8809 - val_loss: 0.2420 - val_accuracy: 0.9312\n",
      "Epoch 2/50\n",
      "37800/37800 [==============================] - 6s 171us/step - loss: 0.2006 - accuracy: 0.9426 - val_loss: 0.1892 - val_accuracy: 0.9445\n",
      "Epoch 3/50\n",
      "37800/37800 [==============================] - 7s 180us/step - loss: 0.1482 - accuracy: 0.9579 - val_loss: 0.1455 - val_accuracy: 0.9564\n",
      "Epoch 4/50\n",
      "37800/37800 [==============================] - 7s 180us/step - loss: 0.1173 - accuracy: 0.9660 - val_loss: 0.1299 - val_accuracy: 0.9598\n",
      "Epoch 5/50\n",
      "37800/37800 [==============================] - 6s 168us/step - loss: 0.0950 - accuracy: 0.9729 - val_loss: 0.1334 - val_accuracy: 0.9598\n",
      "Epoch 6/50\n",
      "37800/37800 [==============================] - 6s 171us/step - loss: 0.0782 - accuracy: 0.9771 - val_loss: 0.1074 - val_accuracy: 0.9676\n",
      "Epoch 7/50\n",
      "37800/37800 [==============================] - 7s 174us/step - loss: 0.0666 - accuracy: 0.9814 - val_loss: 0.0981 - val_accuracy: 0.9717\n",
      "Epoch 8/50\n",
      "37800/37800 [==============================] - 7s 174us/step - loss: 0.0566 - accuracy: 0.9837 - val_loss: 0.0952 - val_accuracy: 0.9714\n",
      "Epoch 9/50\n",
      "37800/37800 [==============================] - 6s 170us/step - loss: 0.0482 - accuracy: 0.9863 - val_loss: 0.0920 - val_accuracy: 0.9721\n",
      "Epoch 10/50\n",
      "37800/37800 [==============================] - 7s 177us/step - loss: 0.0410 - accuracy: 0.9885 - val_loss: 0.0869 - val_accuracy: 0.9750\n",
      "Epoch 11/50\n",
      "37800/37800 [==============================] - 7s 179us/step - loss: 0.0353 - accuracy: 0.9899 - val_loss: 0.0884 - val_accuracy: 0.9740\n",
      "Epoch 12/50\n",
      "37800/37800 [==============================] - 7s 173us/step - loss: 0.0294 - accuracy: 0.9922 - val_loss: 0.0806 - val_accuracy: 0.9757\n",
      "Epoch 13/50\n",
      "37800/37800 [==============================] - 6s 168us/step - loss: 0.0252 - accuracy: 0.9935 - val_loss: 0.0865 - val_accuracy: 0.9733\n",
      "Epoch 14/50\n",
      "37800/37800 [==============================] - 6s 164us/step - loss: 0.0217 - accuracy: 0.9945 - val_loss: 0.0818 - val_accuracy: 0.9752\n",
      "Epoch 15/50\n",
      "37800/37800 [==============================] - 6s 165us/step - loss: 0.0185 - accuracy: 0.9954 - val_loss: 0.0826 - val_accuracy: 0.9745\n",
      "Epoch 16/50\n",
      "37800/37800 [==============================] - 6s 164us/step - loss: 0.0152 - accuracy: 0.9962 - val_loss: 0.0846 - val_accuracy: 0.9745\n",
      "Epoch 17/50\n",
      "37800/37800 [==============================] - 7s 181us/step - loss: 0.0128 - accuracy: 0.9973 - val_loss: 0.0859 - val_accuracy: 0.9776\n",
      "Epoch 18/50\n",
      "37800/37800 [==============================] - 7s 185us/step - loss: 0.0107 - accuracy: 0.9976 - val_loss: 0.0895 - val_accuracy: 0.9781\n",
      "Epoch 19/50\n",
      "37800/37800 [==============================] - 6s 170us/step - loss: 0.0090 - accuracy: 0.9983 - val_loss: 0.0860 - val_accuracy: 0.9776\n",
      "Epoch 20/50\n",
      "37800/37800 [==============================] - 6s 169us/step - loss: 0.0077 - accuracy: 0.9984 - val_loss: 0.0817 - val_accuracy: 0.9774\n",
      "Epoch 21/50\n",
      "37800/37800 [==============================] - 6s 166us/step - loss: 0.0062 - accuracy: 0.9989 - val_loss: 0.0924 - val_accuracy: 0.9767\n",
      "Epoch 22/50\n",
      "37800/37800 [==============================] - 7s 172us/step - loss: 0.0053 - accuracy: 0.9992 - val_loss: 0.0912 - val_accuracy: 0.9779\n",
      "Epoch 23/50\n",
      "37800/37800 [==============================] - 7s 179us/step - loss: 0.0042 - accuracy: 0.9994 - val_loss: 0.1018 - val_accuracy: 0.9769\n",
      "Epoch 24/50\n",
      "37800/37800 [==============================] - 7s 181us/step - loss: 0.0037 - accuracy: 0.9995 - val_loss: 0.0978 - val_accuracy: 0.9771\n",
      "Epoch 25/50\n",
      "37800/37800 [==============================] - 7s 175us/step - loss: 0.0030 - accuracy: 0.9995 - val_loss: 0.0991 - val_accuracy: 0.9795\n",
      "Epoch 26/50\n",
      "37800/37800 [==============================] - 6s 171us/step - loss: 0.0026 - accuracy: 0.9996 - val_loss: 0.0982 - val_accuracy: 0.9783\n",
      "Epoch 27/50\n",
      "37800/37800 [==============================] - 7s 172us/step - loss: 0.0020 - accuracy: 0.9997 - val_loss: 0.1055 - val_accuracy: 0.9776\n",
      "Epoch 28/50\n",
      "37800/37800 [==============================] - 7s 173us/step - loss: 0.0018 - accuracy: 0.9997 - val_loss: 0.1061 - val_accuracy: 0.9793\n",
      "Epoch 29/50\n",
      "37800/37800 [==============================] - 7s 181us/step - loss: 0.0014 - accuracy: 0.9998 - val_loss: 0.1071 - val_accuracy: 0.9793\n",
      "Epoch 30/50\n",
      "37800/37800 [==============================] - 6s 168us/step - loss: 0.0012 - accuracy: 0.9997 - val_loss: 0.1104 - val_accuracy: 0.9793\n",
      "Epoch 31/50\n",
      "37800/37800 [==============================] - 6s 168us/step - loss: 8.8357e-04 - accuracy: 0.9998 - val_loss: 0.1192 - val_accuracy: 0.9781\n",
      "Epoch 32/50\n",
      "37800/37800 [==============================] - 7s 175us/step - loss: 5.7516e-04 - accuracy: 0.9999 - val_loss: 0.1151 - val_accuracy: 0.9800\n",
      "Epoch 33/50\n",
      "37800/37800 [==============================] - 7s 180us/step - loss: 4.6865e-04 - accuracy: 0.9999 - val_loss: 0.1214 - val_accuracy: 0.9781\n",
      "Epoch 34/50\n",
      "37800/37800 [==============================] - 7s 183us/step - loss: 5.4639e-04 - accuracy: 0.9999 - val_loss: 0.1198 - val_accuracy: 0.9781\n",
      "Epoch 35/50\n",
      "37800/37800 [==============================] - 6s 170us/step - loss: 2.9778e-04 - accuracy: 0.9999 - val_loss: 0.1289 - val_accuracy: 0.9800\n",
      "Epoch 36/50\n",
      "37800/37800 [==============================] - 6s 168us/step - loss: 2.5100e-04 - accuracy: 0.9999 - val_loss: 0.1451 - val_accuracy: 0.9779\n",
      "Epoch 37/50\n",
      "37800/37800 [==============================] - 7s 184us/step - loss: 1.9096e-04 - accuracy: 1.0000 - val_loss: 0.1330 - val_accuracy: 0.9788\n",
      "Epoch 38/50\n",
      "37800/37800 [==============================] - 7s 172us/step - loss: 1.0984e-04 - accuracy: 1.0000 - val_loss: 0.1364 - val_accuracy: 0.9802\n",
      "Epoch 39/50\n",
      "37800/37800 [==============================] - 7s 179us/step - loss: 1.2080e-04 - accuracy: 1.0000 - val_loss: 0.1407 - val_accuracy: 0.9802\n",
      "Epoch 40/50\n",
      "37800/37800 [==============================] - 6s 161us/step - loss: 5.3641e-05 - accuracy: 1.0000 - val_loss: 0.1457 - val_accuracy: 0.9798\n",
      "Epoch 41/50\n",
      "37800/37800 [==============================] - 6s 164us/step - loss: 4.1197e-05 - accuracy: 1.0000 - val_loss: 0.1453 - val_accuracy: 0.9802\n",
      "Epoch 42/50\n",
      "37800/37800 [==============================] - 6s 164us/step - loss: 4.7109e-05 - accuracy: 1.0000 - val_loss: 0.1493 - val_accuracy: 0.9800\n",
      "Epoch 43/50\n",
      "37800/37800 [==============================] - 6s 164us/step - loss: 5.1048e-05 - accuracy: 1.0000 - val_loss: 0.1549 - val_accuracy: 0.9800\n",
      "Epoch 44/50\n",
      "37800/37800 [==============================] - 6s 164us/step - loss: 1.8832e-05 - accuracy: 1.0000 - val_loss: 0.1508 - val_accuracy: 0.9810\n",
      "Epoch 45/50\n",
      "37800/37800 [==============================] - 6s 167us/step - loss: 4.4843e-05 - accuracy: 1.0000 - val_loss: 0.1563 - val_accuracy: 0.9790\n",
      "Epoch 46/50\n",
      "37800/37800 [==============================] - 6s 165us/step - loss: 8.5481e-06 - accuracy: 1.0000 - val_loss: 0.1659 - val_accuracy: 0.9793\n",
      "Epoch 47/50\n",
      "37800/37800 [==============================] - 6s 163us/step - loss: 6.8636e-06 - accuracy: 1.0000 - val_loss: 0.1685 - val_accuracy: 0.9807\n",
      "Epoch 48/50\n",
      "37800/37800 [==============================] - 6s 163us/step - loss: 4.5227e-06 - accuracy: 1.0000 - val_loss: 0.1803 - val_accuracy: 0.9788\n",
      "Epoch 49/50\n",
      "37800/37800 [==============================] - 6s 163us/step - loss: 7.6292e-06 - accuracy: 1.0000 - val_loss: 0.1696 - val_accuracy: 0.9795\n",
      "Epoch 50/50\n",
      "37800/37800 [==============================] - 6s 162us/step - loss: 3.0434e-06 - accuracy: 1.0000 - val_loss: 0.1734 - val_accuracy: 0.9810\n"
     ]
    }
   ],
   "source": [
    "#0.98 acc\n",
    "history = model.fit(x_tr, y_tr,\n",
    "batch_size=64, epochs=50,\n",
    "validation_data=(x_val, y_val))"
   ]
  },
  {
   "cell_type": "code",
   "execution_count": 38,
   "metadata": {},
   "outputs": [
    {
     "data": {
      "image/png": "[encoded data removed]",
      "text/plain": [
       "<Figure size 432x288 with 1 Axes>"
      ]
     },
     "metadata": {
      "needs_background": "light"
     },
     "output_type": "display_data"
    }
   ],
   "source": [
    "import matplotlib.pyplot as plt\n",
    "%matplotlib inline\n",
    "epochs = range(50) # 50 is the number of epochs\n",
    "train_acc = history.history['accuracy']\n",
    "valid_acc = history.history['val_accuracy']\n",
    "plt.plot(epochs, train_acc, 'bo', label='Training Accuracy')\n",
    "plt.plot(epochs, valid_acc, 'r', label='Validation Accuracy')\n",
    "plt.xlabel('Epochs')\n",
    "plt.ylabel('Accuracy')\n",
    "plt.legend()\n",
    "plt.show()"
   ]
  },
  {
   "cell_type": "markdown",
   "metadata": {},
   "source": [
    "### 1.5. Compare results with simple baseline\n",
    "Here, for baseline, I have used linear logistic regression model"
   ]
  },
  {
   "cell_type": "code",
   "execution_count": 50,
   "metadata": {},
   "outputs": [
    {
     "name": "stderr",
     "output_type": "stream",
     "text": [
      "/usr/local/lib/python3.7/site-packages/sklearn/linear_model/logistic.py:432: FutureWarning: Default solver will be changed to 'lbfgs' in 0.22. Specify a solver to silence this warning.\n",
      "  FutureWarning)\n",
      "/usr/local/lib/python3.7/site-packages/sklearn/linear_model/logistic.py:469: FutureWarning: Default multi_class will be changed to 'auto' in 0.22. Specify the multi_class option to silence this warning.\n",
      "  \"this warning.\", FutureWarning)\n"
     ]
    }
   ],
   "source": [
    "from sklearn.linear_model import LogisticRegression\n",
    "\n",
    "# Train a logistic regression model on the training set\n",
    "\n",
    "logreg = LogisticRegression()\n",
    "logreg.fit(x_tr, y_tr)\n",
    "\n",
    "y_val_class = logreg.predict(x_val)\n"
   ]
  },
  {
   "cell_type": "code",
   "execution_count": 57,
   "metadata": {},
   "outputs": [
    {
     "name": "stdout",
     "output_type": "stream",
     "text": [
      "--------------------- Comparision of Fully Connected NN with Baseline ------------------\n",
      "\n",
      "Validation Accuracy Score (Logistic Regression): 0.9121428571428571\n",
      "Validation Accuracy Score (Fully Connected NN): 0.9809523820877075\n"
     ]
    }
   ],
   "source": [
    "#calculate accuracy\n",
    "from sklearn import metrics\n",
    "print('--------------------- Comparision of Fully Connected NN with Baseline ------------------')\n",
    "print('\\nValidation Accuracy Score (Logistic Regression): '+str(metrics.accuracy_score(y_val, y_val_class)))\n",
    "print('Validation Accuracy Score (Fully Connected NN): ' +str(history.history['val_accuracy'][49]))"
   ]
  },
  {
   "cell_type": "markdown",
   "metadata": {},
   "source": [
    "### 1.6. Predict labels for test data and save the results for submission\n"
   ]
  },
  {
   "cell_type": "code",
   "execution_count": 39,
   "metadata": {},
   "outputs": [],
   "source": [
    "predicitons = model.predict(test_data)\n",
    "predicitons = np.argmax(predicitons,axis = 1)\n",
    "predicitons = pd.Series(predicitons,name=\"Label\")"
   ]
  },
  {
   "cell_type": "code",
   "execution_count": 40,
   "metadata": {},
   "outputs": [],
   "source": [
    "submission_results = pd.concat([pd.Series(range(1,28001),name = \"ImageId\"),predicitons],axis = 1)\n",
    "\n",
    "submission_results.to_csv(\"Submissions/DR_Submission_FNN_11_30_v1.csv\",index=False)"
   ]
  },
  {
   "cell_type": "markdown",
   "metadata": {},
   "source": [
    "### 1.7. Public Score of Kaggle Competion: 0.97614  \n"
   ]
  }
 ],
 "metadata": {
  "kernelspec": {
   "display_name": "Python 3",
   "language": "python",
   "name": "python3"
  },
  "language_info": {
   "codemirror_mode": {
    "name": "ipython",
    "version": 3
   },
   "file_extension": ".py",
   "mimetype": "text/x-python",
   "name": "python",
   "nbconvert_exporter": "python",
   "pygments_lexer": "ipython3",
   "version": "3.7.5"
  }
 },
 "nbformat": 4,
 "nbformat_minor": 2
}
