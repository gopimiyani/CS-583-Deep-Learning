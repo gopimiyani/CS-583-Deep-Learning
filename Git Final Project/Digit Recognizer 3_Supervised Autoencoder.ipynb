{
 "cells": [
  {
   "cell_type": "markdown",
   "metadata": {},
   "source": [
    "# Final Project: Digit Recognizer - An Active Kaggle Competition\n",
    "##  Name: Gopi Miyani (10437266)\n",
    "### Model : Supervised Autoencoder\n",
    "\n",
    "- Kaggle Competition Link: https://www.kaggle.com/c/digit-recognizer/overview\n",
    "- Goal: To identify digits from hand-written images\n"
   ]
  },
  {
   "cell_type": "markdown",
   "metadata": {},
   "source": [
    "## 1. Method: Supervised Autoencoder"
   ]
  },
  {
   "cell_type": "markdown",
   "metadata": {},
   "source": [
    "### 1.1. Load Data "
   ]
  },
  {
   "cell_type": "code",
   "execution_count": 1,
   "metadata": {},
   "outputs": [
    {
     "name": "stdout",
     "output_type": "stream",
     "text": [
      "\n",
      "Shape of train_data: (42000, 785)\n",
      "Shape of test data: (28000, 784)\n"
     ]
    }
   ],
   "source": [
    "# Import Libraries\n",
    "\n",
    "import numpy as np\n",
    "import pandas as pd\n",
    "from IPython.display import display, HTML\n",
    "\n",
    "# Load Data\n",
    "\n",
    "train_data=pd.read_csv('Data/train.csv')\n",
    "test_data=pd.read_csv('Data/test.csv')\n",
    "\n",
    "print('\\nShape of train_data: '+str(train_data.shape))\n",
    "print('Shape of test data: '+str(test_data.shape))"
   ]
  },
  {
   "cell_type": "code",
   "execution_count": 2,
   "metadata": {},
   "outputs": [
    {
     "name": "stdout",
     "output_type": "stream",
     "text": [
      "Shape of x_train: (42000, 784)\n",
      "Shape of y_train: (42000,)\n",
      "number of classes: 10\n"
     ]
    }
   ],
   "source": [
    "# Extract input features and labels from tarinning data into x_train and y_train\n",
    "\n",
    "x_train = train_data.drop(labels='label',axis=1)\n",
    "#print('\\n------------------ x_train Data Head ------------------\\n' +str(x_train.head))\n",
    "#print('\\n------------------y_train Data Head ------------------\\n' +str(y_train.head))\n",
    "y_train=train_data['label']\n",
    "print('Shape of x_train: ' +str(x_train.shape))\n",
    "print('Shape of y_train: ' +str(y_train.shape))\n",
    "print('number of classes: ' + str(np.max(y_train) - np.min(y_train) + 1))\n"
   ]
  },
  {
   "cell_type": "markdown",
   "metadata": {},
   "source": [
    "### 1.2. Data Normalization"
   ]
  },
  {
   "cell_type": "code",
   "execution_count": 3,
   "metadata": {},
   "outputs": [
    {
     "name": "stdout",
     "output_type": "stream",
     "text": [
      "Shape of x_train(42000, 784)\n",
      "Shape of test_data(28000, 784)\n"
     ]
    }
   ],
   "source": [
    "# Normalize train and test data\n",
    "\n",
    "x_train=x_train/255.0\n",
    "test_data=test_data/255.0\n",
    "\n",
    "#print(x_train.describe())\n",
    "#print(test_data.describe())\n",
    "\n",
    "print('Shape of x_train' +str(x_train.shape))\n",
    "print('Shape of test_data' +str(test_data.shape))"
   ]
  },
  {
   "cell_type": "markdown",
   "metadata": {},
   "source": [
    "### 1.3. One-hot encode the labels\n",
    "In the input, a label is a scalar in  {0,1,⋯,9} . However, such labels are not easily trainable and it is thus easier to train on an encoding of the labels. Here, a one-hot encoding is used for this purpose."
   ]
  },
  {
   "cell_type": "code",
   "execution_count": 4,
   "metadata": {},
   "outputs": [
    {
     "name": "stderr",
     "output_type": "stream",
     "text": [
      "Using TensorFlow backend.\n"
     ]
    },
    {
     "name": "stdout",
     "output_type": "stream",
     "text": [
      "Shape of y_train(42000, 10)\n"
     ]
    }
   ],
   "source": [
    "from keras.utils import to_categorical\n",
    "\n",
    "def to_one_hot(y, num_class=10):\n",
    "    return to_categorical(y)\n",
    "\n",
    "y_train= to_categorical(y_train,num_classes=10)\n",
    "print('Shape of y_train' +str(y_train.shape))"
   ]
  },
  {
   "cell_type": "markdown",
   "metadata": {},
   "source": [
    "### 1.4. Randomly partition the training set to training and validation sets\n",
    "Randomly partition the 42K training samples to 2 sets:\n",
    "\n",
    "- A training set containing 90% of total samples\n",
    "- A validation set containing 10% of total samples"
   ]
  },
  {
   "cell_type": "code",
   "execution_count": 5,
   "metadata": {},
   "outputs": [
    {
     "name": "stdout",
     "output_type": "stream",
     "text": [
      "Shape of x_tr: (37800, 784)\n",
      "Shape of y_tr: (37800, 10)\n",
      "Shape of x_val: (4200, 784)\n",
      "Shape of y_val: (4200, 10)\n"
     ]
    }
   ],
   "source": [
    "from sklearn.model_selection import train_test_split\n",
    "\n",
    "# Train-validation split \n",
    "\n",
    "r_seed = 2\n",
    "x_tr, x_val, y_tr, y_val = train_test_split(x_train, y_train, test_size = 0.1, random_state=r_seed)\n",
    "\n",
    "\n",
    "print('Shape of x_tr: ' + str(x_tr.shape))\n",
    "print('Shape of y_tr: ' + str(y_tr.shape))\n",
    "print('Shape of x_val: ' + str(x_val.shape))\n",
    "print('Shape of y_val: ' + str(y_val.shape))\n"
   ]
  },
  {
   "cell_type": "markdown",
   "metadata": {},
   "source": [
    "### 1.5. Build supervised auto encoder model"
   ]
  },
  {
   "cell_type": "code",
   "execution_count": 6,
   "metadata": {},
   "outputs": [],
   "source": [
    "# build the supervised autoencoder network\n",
    "from keras.layers import Dense, Input\n",
    "from keras import models\n",
    "from keras.layers import Dropout, BatchNormalization,Activation\n",
    "from keras.regularizers import l1, l2, l1_l2\n",
    "\n",
    "input_img = Input(shape=(784,), name='input_img')\n",
    "\n",
    "# encoder network\n",
    "encode1 = Dense(128, name='encode1',activation=\"relu\")(input_img)  \n",
    "encode2 = Dense(64, activation='relu', name='encode2')(encode1)\n",
    "encode3 = Dense(32, activation='relu', name='encode3')(encode2)\n",
    "encode4 = Dense(8, activation='relu', name='encode4')(encode3)\n",
    "\n",
    "# The width of the bottleneck layer must be exactly 2.\n",
    "bottleneck = Dense(2, activation='relu', name='bottleneck')(encode4)\n",
    "\n",
    "# decoder network\n",
    "decode1 = Dense(8, activation='relu', name='decode1')(bottleneck)\n",
    "decode2 = Dense(32, activation='relu', name='decode2')(decode1)\n",
    "decode3 = Dense(64, activation='relu', name='decode3')(decode2)\n",
    "decode4 = Dense(128, activation='relu', name='decode4')(decode3)\n",
    "decode5 = Dense(784, activation='relu', name='decode5')(decode4)\n",
    "\n",
    "# build a classifier upon the bottleneck layer\n",
    "classifier1 = Dense(256,name=\"classifier1\")(bottleneck)\n",
    "classifier1=BatchNormalization()(classifier1)\n",
    "classifier1=Activation(\"relu\")(classifier1)\n",
    "classifier1=Dropout(rate=0.5)(classifier1)\n",
    "                    \n",
    "classifier2 = Dense(64,name=\"classifier2\",kernel_regularizer=l2(0.001))(classifier1)                   \n",
    "classifier2=Activation(\"relu\")(classifier2)\n",
    "\n",
    "classifier3 = Dense(10, activation='softmax',name=\"classifier3\")(classifier2)"
   ]
  },
  {
   "cell_type": "code",
   "execution_count": 7,
   "metadata": {},
   "outputs": [
    {
     "name": "stdout",
     "output_type": "stream",
     "text": [
      "Model: \"model_1\"\n",
      "__________________________________________________________________________________________________\n",
      "Layer (type)                    Output Shape         Param #     Connected to                     \n",
      "==================================================================================================\n",
      "input_img (InputLayer)          (None, 784)          0                                            \n",
      "__________________________________________________________________________________________________\n",
      "encode1 (Dense)                 (None, 128)          100480      input_img[0][0]                  \n",
      "__________________________________________________________________________________________________\n",
      "encode2 (Dense)                 (None, 64)           8256        encode1[0][0]                    \n",
      "__________________________________________________________________________________________________\n",
      "encode3 (Dense)                 (None, 32)           2080        encode2[0][0]                    \n",
      "__________________________________________________________________________________________________\n",
      "encode4 (Dense)                 (None, 8)            264         encode3[0][0]                    \n",
      "__________________________________________________________________________________________________\n",
      "bottleneck (Dense)              (None, 2)            18          encode4[0][0]                    \n",
      "__________________________________________________________________________________________________\n",
      "classifier1 (Dense)             (None, 256)          768         bottleneck[0][0]                 \n",
      "__________________________________________________________________________________________________\n",
      "batch_normalization_1 (BatchNor (None, 256)          1024        classifier1[0][0]                \n",
      "__________________________________________________________________________________________________\n",
      "decode1 (Dense)                 (None, 8)            24          bottleneck[0][0]                 \n",
      "__________________________________________________________________________________________________\n",
      "activation_1 (Activation)       (None, 256)          0           batch_normalization_1[0][0]      \n",
      "__________________________________________________________________________________________________\n",
      "decode2 (Dense)                 (None, 32)           288         decode1[0][0]                    \n",
      "__________________________________________________________________________________________________\n",
      "dropout_1 (Dropout)             (None, 256)          0           activation_1[0][0]               \n",
      "__________________________________________________________________________________________________\n",
      "decode3 (Dense)                 (None, 64)           2112        decode2[0][0]                    \n",
      "__________________________________________________________________________________________________\n",
      "classifier2 (Dense)             (None, 64)           16448       dropout_1[0][0]                  \n",
      "__________________________________________________________________________________________________\n",
      "decode4 (Dense)                 (None, 128)          8320        decode3[0][0]                    \n",
      "__________________________________________________________________________________________________\n",
      "activation_2 (Activation)       (None, 64)           0           classifier2[0][0]                \n",
      "__________________________________________________________________________________________________\n",
      "decode5 (Dense)                 (None, 784)          101136      decode4[0][0]                    \n",
      "__________________________________________________________________________________________________\n",
      "classifier3 (Dense)             (None, 10)           650         activation_2[0][0]               \n",
      "==================================================================================================\n",
      "Total params: 241,868\n",
      "Trainable params: 241,356\n",
      "Non-trainable params: 512\n",
      "__________________________________________________________________________________________________\n"
     ]
    }
   ],
   "source": [
    "# connect the input and the two outputs\n",
    "sae = models.Model(input_img, [decode5, classifier3])\n",
    "\n",
    "sae.summary()"
   ]
  },
  {
   "cell_type": "code",
   "execution_count": 8,
   "metadata": {},
   "outputs": [
    {
     "name": "stdout",
     "output_type": "stream",
     "text": [
      "Model: \"model_2\"\n",
      "_________________________________________________________________\n",
      "Layer (type)                 Output Shape              Param #   \n",
      "=================================================================\n",
      "input_img (InputLayer)       (None, 784)               0         \n",
      "_________________________________________________________________\n",
      "encode1 (Dense)              (None, 128)               100480    \n",
      "_________________________________________________________________\n",
      "encode2 (Dense)              (None, 64)                8256      \n",
      "_________________________________________________________________\n",
      "encode3 (Dense)              (None, 32)                2080      \n",
      "_________________________________________________________________\n",
      "encode4 (Dense)              (None, 8)                 264       \n",
      "_________________________________________________________________\n",
      "bottleneck (Dense)           (None, 2)                 18        \n",
      "=================================================================\n",
      "Total params: 111,098\n",
      "Trainable params: 111,098\n",
      "Non-trainable params: 0\n",
      "_________________________________________________________________\n"
     ]
    }
   ],
   "source": [
    "# build the encoder model\n",
    "sae_encoder = models.Model(input_img, bottleneck)\n",
    "sae_encoder.summary()"
   ]
  },
  {
   "cell_type": "code",
   "execution_count": 9,
   "metadata": {},
   "outputs": [
    {
     "name": "stdout",
     "output_type": "stream",
     "text": [
      "Train on 37800 samples, validate on 4200 samples\n",
      "Epoch 1/20\n",
      "37800/37800 [==============================] - 9s 230us/step - loss: 0.5702 - decode5_loss: 0.0669 - classifier3_loss: 0.8969 - val_loss: 0.3401 - val_decode5_loss: 0.0602 - val_classifier3_loss: 0.4988\n",
      "Epoch 2/20\n",
      "37800/37800 [==============================] - 8s 199us/step - loss: 0.3459 - decode5_loss: 0.0586 - classifier3_loss: 0.5237 - val_loss: 0.3034 - val_decode5_loss: 0.0583 - val_classifier3_loss: 0.4582\n",
      "Epoch 3/20\n",
      "37800/37800 [==============================] - 7s 198us/step - loss: 0.2880 - decode5_loss: 0.0567 - classifier3_loss: 0.4263 - val_loss: 0.2123 - val_decode5_loss: 0.0556 - val_classifier3_loss: 0.2817\n",
      "Epoch 4/20\n",
      "37800/37800 [==============================] - 8s 199us/step - loss: 0.2589 - decode5_loss: 0.0559 - classifier3_loss: 0.3739 - val_loss: 0.1783 - val_decode5_loss: 0.0554 - val_classifier3_loss: 0.2190\n",
      "Epoch 5/20\n",
      "37800/37800 [==============================] - 7s 197us/step - loss: 0.2382 - decode5_loss: 0.0556 - classifier3_loss: 0.3392 - val_loss: 0.1937 - val_decode5_loss: 0.0555 - val_classifier3_loss: 0.2524\n",
      "Epoch 6/20\n",
      "37800/37800 [==============================] - 7s 198us/step - loss: 0.2178 - decode5_loss: 0.0553 - classifier3_loss: 0.2990 - val_loss: 0.2057 - val_decode5_loss: 0.0552 - val_classifier3_loss: 0.2838\n",
      "Epoch 7/20\n",
      "37800/37800 [==============================] - 7s 197us/step - loss: 0.2085 - decode5_loss: 0.0554 - classifier3_loss: 0.2847 - val_loss: 0.1635 - val_decode5_loss: 0.0549 - val_classifier3_loss: 0.1945\n",
      "Epoch 8/20\n",
      "37800/37800 [==============================] - 8s 200us/step - loss: 0.2023 - decode5_loss: 0.0551 - classifier3_loss: 0.2698 - val_loss: 0.1497 - val_decode5_loss: 0.0545 - val_classifier3_loss: 0.1696\n",
      "Epoch 9/20\n",
      "37800/37800 [==============================] - 7s 197us/step - loss: 0.1897 - decode5_loss: 0.0550 - classifier3_loss: 0.2464 - val_loss: 0.1596 - val_decode5_loss: 0.0555 - val_classifier3_loss: 0.1872\n",
      "Epoch 10/20\n",
      "37800/37800 [==============================] - 8s 200us/step - loss: 0.1834 - decode5_loss: 0.0549 - classifier3_loss: 0.2346 - val_loss: 0.1625 - val_decode5_loss: 0.0547 - val_classifier3_loss: 0.1994\n",
      "Epoch 11/20\n",
      "37800/37800 [==============================] - 7s 196us/step - loss: 0.1778 - decode5_loss: 0.0548 - classifier3_loss: 0.2243 - val_loss: 0.1674 - val_decode5_loss: 0.0543 - val_classifier3_loss: 0.2054\n",
      "Epoch 12/20\n",
      "37800/37800 [==============================] - 8s 201us/step - loss: 0.1729 - decode5_loss: 0.0547 - classifier3_loss: 0.2151 - val_loss: 0.1589 - val_decode5_loss: 0.0542 - val_classifier3_loss: 0.1915\n",
      "Epoch 13/20\n",
      "37800/37800 [==============================] - 7s 197us/step - loss: 0.1729 - decode5_loss: 0.0548 - classifier3_loss: 0.2164 - val_loss: 0.1721 - val_decode5_loss: 0.0555 - val_classifier3_loss: 0.2149\n",
      "Epoch 14/20\n",
      "37800/37800 [==============================] - 8s 199us/step - loss: 0.1734 - decode5_loss: 0.0547 - classifier3_loss: 0.2172 - val_loss: 0.1823 - val_decode5_loss: 0.0541 - val_classifier3_loss: 0.2391\n",
      "Epoch 15/20\n",
      "37800/37800 [==============================] - 7s 197us/step - loss: 0.1646 - decode5_loss: 0.0547 - classifier3_loss: 0.1995 - val_loss: 0.1750 - val_decode5_loss: 0.0543 - val_classifier3_loss: 0.2321\n",
      "Epoch 16/20\n",
      "37800/37800 [==============================] - 8s 200us/step - loss: 0.1607 - decode5_loss: 0.0547 - classifier3_loss: 0.1931 - val_loss: 0.1769 - val_decode5_loss: 0.0545 - val_classifier3_loss: 0.2399\n",
      "Epoch 17/20\n",
      "37800/37800 [==============================] - 7s 196us/step - loss: 0.1554 - decode5_loss: 0.0547 - classifier3_loss: 0.1840 - val_loss: 0.1666 - val_decode5_loss: 0.0549 - val_classifier3_loss: 0.2064\n",
      "Epoch 18/20\n",
      "37800/37800 [==============================] - 8s 199us/step - loss: 0.1588 - decode5_loss: 0.0547 - classifier3_loss: 0.1904 - val_loss: 0.3221 - val_decode5_loss: 0.0547 - val_classifier3_loss: 0.5332\n",
      "Epoch 19/20\n",
      "37800/37800 [==============================] - 8s 204us/step - loss: 0.1438 - decode5_loss: 0.0546 - classifier3_loss: 0.1609 - val_loss: 0.1811 - val_decode5_loss: 0.0540 - val_classifier3_loss: 0.2400\n",
      "Epoch 20/20\n",
      "37800/37800 [==============================] - 7s 197us/step - loss: 0.1520 - decode5_loss: 0.0545 - classifier3_loss: 0.1783 - val_loss: 0.1795 - val_decode5_loss: 0.0539 - val_classifier3_loss: 0.2426\n"
     ]
    }
   ],
   "source": [
    "from keras import optimizers\n",
    "\n",
    "sae.compile(loss=['mean_squared_error', 'categorical_crossentropy'],\n",
    "            loss_weights=[1, 0.5], # to be tuned\n",
    "            optimizer=optimizers.RMSprop(lr=1E-3))\n",
    "\n",
    "history = sae.fit(x_tr, [x_tr, y_tr], \n",
    "                  batch_size=32, \n",
    "                  epochs=20, \n",
    "                  validation_data=(x_val,[x_val, y_val]))"
   ]
  },
  {
   "cell_type": "code",
   "execution_count": 10,
   "metadata": {},
   "outputs": [
    {
     "data": {
      "image/png": "[encoded data removed]",
      "text/plain": [
       "<Figure size 432x288 with 1 Axes>"
      ]
     },
     "metadata": {
      "needs_background": "light"
     },
     "output_type": "display_data"
    }
   ],
   "source": [
    "import matplotlib.pyplot as plt\n",
    "%matplotlib inline\n",
    "\n",
    "loss = history.history['loss']\n",
    "val_loss = history.history['val_loss']\n",
    "\n",
    "epochs = range(len(loss))\n",
    "\n",
    "plt.plot(epochs, loss, 'bo', label='Training Loss')\n",
    "plt.plot(epochs, val_loss, 'r', label='Validation Loss')\n",
    "plt.xlabel('Epochs')\n",
    "plt.ylabel('Loss')\n",
    "plt.legend()\n",
    "plt.show()"
   ]
  },
  {
   "cell_type": "code",
   "execution_count": 11,
   "metadata": {},
   "outputs": [
    {
     "data": {
      "image/png": "[encoded data removed]",
      "text/plain": [
       "<Figure size 576x720 with 20 Axes>"
      ]
     },
     "metadata": {
      "needs_background": "light"
     },
     "output_type": "display_data"
    }
   ],
   "source": [
    "sae_output = sae.predict(test_data)[0].reshape((28000, 28, 28))\n",
    "\n",
    "ROW = 5\n",
    "COLUMN = 4\n",
    "\n",
    "x = sae_output\n",
    "fname = 'reconstruct_sae.pdf'\n",
    "\n",
    "fig, axes = plt.subplots(nrows=ROW, ncols=COLUMN, figsize=(8, 10))\n",
    "for ax, i in zip(axes.flat, np.arange(ROW*COLUMN)):\n",
    "    image = x[i].reshape(28, 28)\n",
    "    ax.imshow(image, cmap='gray')\n",
    "    ax.axis('off')\n",
    "\n",
    "plt.tight_layout()\n",
    "plt.savefig(fname)\n",
    "plt.show()"
   ]
  },
  {
   "cell_type": "code",
   "execution_count": 12,
   "metadata": {},
   "outputs": [
    {
     "name": "stdout",
     "output_type": "stream",
     "text": [
      "Model: \"model_3\"\n",
      "_________________________________________________________________\n",
      "Layer (type)                 Output Shape              Param #   \n",
      "=================================================================\n",
      "input_img (InputLayer)       (None, 784)               0         \n",
      "_________________________________________________________________\n",
      "encode1 (Dense)              (None, 128)               100480    \n",
      "_________________________________________________________________\n",
      "encode2 (Dense)              (None, 64)                8256      \n",
      "_________________________________________________________________\n",
      "encode3 (Dense)              (None, 32)                2080      \n",
      "_________________________________________________________________\n",
      "encode4 (Dense)              (None, 8)                 264       \n",
      "_________________________________________________________________\n",
      "bottleneck (Dense)           (None, 2)                 18        \n",
      "=================================================================\n",
      "Total params: 111,098\n",
      "Trainable params: 111,098\n",
      "Non-trainable params: 0\n",
      "_________________________________________________________________\n"
     ]
    }
   ],
   "source": [
    "# build the encoder model\n",
    "sae_encoder = models.Model(input_img, bottleneck)\n",
    "sae_encoder.summary()"
   ]
  },
  {
   "cell_type": "code",
   "execution_count": 13,
   "metadata": {},
   "outputs": [],
   "source": [
    "# extract 2D features from the training, validation, and test samples\n",
    "f_tr = sae_encoder.predict(x_tr)\n",
    "f_val = sae_encoder.predict(x_val)\n",
    "f_te = sae_encoder.predict(test_data)\n"
   ]
  },
  {
   "cell_type": "code",
   "execution_count": 14,
   "metadata": {},
   "outputs": [
    {
     "name": "stdout",
     "output_type": "stream",
     "text": [
      "Model: \"model_4\"\n",
      "_________________________________________________________________\n",
      "Layer (type)                 Output Shape              Param #   \n",
      "=================================================================\n",
      "input_1 (InputLayer)         (None, 2)                 0         \n",
      "_________________________________________________________________\n",
      "dense_1 (Dense)              (None, 256)               768       \n",
      "_________________________________________________________________\n",
      "dense_2 (Dense)              (None, 128)               32896     \n",
      "_________________________________________________________________\n",
      "dense_3 (Dense)              (None, 10)                1290      \n",
      "=================================================================\n",
      "Total params: 34,954\n",
      "Trainable params: 34,954\n",
      "Non-trainable params: 0\n",
      "_________________________________________________________________\n"
     ]
    }
   ],
   "source": [
    "# build a classifier which takes the 2D features as input\n",
    "from keras.layers import Dense, Input\n",
    "from keras import models\n",
    "\n",
    "input_feat = Input(shape=(2,))\n",
    "\n",
    "hidden1 = Dense(256, activation='relu')(input_feat)\n",
    "hidden2 = Dense(128, activation='relu')(hidden1)\n",
    "output = Dense(10, activation='softmax')(hidden2)\n",
    "\n",
    "classifier = models.Model(input_feat, output)\n",
    "\n",
    "classifier.summary()"
   ]
  },
  {
   "cell_type": "code",
   "execution_count": 15,
   "metadata": {},
   "outputs": [
    {
     "name": "stdout",
     "output_type": "stream",
     "text": [
      "Train on 37800 samples, validate on 4200 samples\n",
      "Epoch 1/20\n",
      "37800/37800 [==============================] - 2s 62us/step - loss: 1.1124 - acc: 0.7047 - val_loss: 0.5298 - val_acc: 0.9160\n",
      "Epoch 2/20\n",
      "37800/37800 [==============================] - 2s 56us/step - loss: 0.2442 - acc: 0.9781 - val_loss: 0.2387 - val_acc: 0.9579\n",
      "Epoch 3/20\n",
      "37800/37800 [==============================] - 2s 61us/step - loss: 0.1006 - acc: 0.9832 - val_loss: 0.2066 - val_acc: 0.9586\n",
      "Epoch 4/20\n",
      "37800/37800 [==============================] - 2s 59us/step - loss: 0.0777 - acc: 0.9838 - val_loss: 0.2082 - val_acc: 0.9598\n",
      "Epoch 5/20\n",
      "37800/37800 [==============================] - 2s 59us/step - loss: 0.0726 - acc: 0.9841 - val_loss: 0.2089 - val_acc: 0.9602\n",
      "Epoch 6/20\n",
      "37800/37800 [==============================] - 2s 57us/step - loss: 0.0709 - acc: 0.9843 - val_loss: 0.2193 - val_acc: 0.9607\n",
      "Epoch 7/20\n",
      "37800/37800 [==============================] - 2s 59us/step - loss: 0.0699 - acc: 0.9847 - val_loss: 0.2155 - val_acc: 0.9614\n",
      "Epoch 8/20\n",
      "37800/37800 [==============================] - 2s 58us/step - loss: 0.0690 - acc: 0.9850 - val_loss: 0.2252 - val_acc: 0.9607\n",
      "Epoch 9/20\n",
      "37800/37800 [==============================] - 2s 57us/step - loss: 0.0687 - acc: 0.9850 - val_loss: 0.2193 - val_acc: 0.9610\n",
      "Epoch 10/20\n",
      "37800/37800 [==============================] - 2s 60us/step - loss: 0.0680 - acc: 0.9853 - val_loss: 0.2233 - val_acc: 0.9614\n",
      "Epoch 11/20\n",
      "37800/37800 [==============================] - 2s 60us/step - loss: 0.0675 - acc: 0.9854 - val_loss: 0.2184 - val_acc: 0.9624\n",
      "Epoch 12/20\n",
      "37800/37800 [==============================] - 2s 58us/step - loss: 0.0673 - acc: 0.9853 - val_loss: 0.2264 - val_acc: 0.9612\n",
      "Epoch 13/20\n",
      "37800/37800 [==============================] - 2s 58us/step - loss: 0.0671 - acc: 0.9856 - val_loss: 0.2232 - val_acc: 0.9614\n",
      "Epoch 14/20\n",
      "37800/37800 [==============================] - 2s 59us/step - loss: 0.0666 - acc: 0.9854 - val_loss: 0.2221 - val_acc: 0.9621\n",
      "Epoch 15/20\n",
      "37800/37800 [==============================] - 2s 55us/step - loss: 0.0665 - acc: 0.9854 - val_loss: 0.2200 - val_acc: 0.9619\n",
      "Epoch 16/20\n",
      "37800/37800 [==============================] - 2s 59us/step - loss: 0.0656 - acc: 0.9854 - val_loss: 0.2256 - val_acc: 0.9621\n",
      "Epoch 17/20\n",
      "37800/37800 [==============================] - 2s 57us/step - loss: 0.0653 - acc: 0.9856 - val_loss: 0.2202 - val_acc: 0.9624\n",
      "Epoch 18/20\n",
      "37800/37800 [==============================] - 2s 58us/step - loss: 0.0649 - acc: 0.9857 - val_loss: 0.2270 - val_acc: 0.9612\n",
      "Epoch 19/20\n",
      "37800/37800 [==============================] - 2s 58us/step - loss: 0.0648 - acc: 0.9857 - val_loss: 0.2255 - val_acc: 0.9629\n",
      "Epoch 20/20\n",
      "37800/37800 [==============================] - 2s 60us/step - loss: 0.0646 - acc: 0.9857 - val_loss: 0.2227 - val_acc: 0.9626\n"
     ]
    }
   ],
   "source": [
    "classifier.compile(loss='categorical_crossentropy',\n",
    "                  optimizer=optimizers.RMSprop(lr=1E-4),\n",
    "                  metrics=['acc'])\n",
    "\n",
    "history = classifier.fit(f_tr, y_tr, \n",
    "                        batch_size=32, \n",
    "                        epochs=20, \n",
    "                        validation_data=(f_val, y_val))"
   ]
  },
  {
   "cell_type": "markdown",
   "metadata": {},
   "source": [
    "### 1.6. Compare results with simple baseline\n",
    "Here, for baseline, I have used linear logistic regression model"
   ]
  },
  {
   "cell_type": "code",
   "execution_count": 22,
   "metadata": {},
   "outputs": [
    {
     "name": "stdout",
     "output_type": "stream",
     "text": [
      "--------------------- Comparision of Supervised Autoencoder with Baseline ------------------\n",
      "\n",
      "Validation Accuracy Score (Logistic Regression): 0.9121428571428571\n",
      "Validation Accuracy Score (Supervised Autoencoder): 0.9626190662384033\n"
     ]
    }
   ],
   "source": [
    "#calculate accuracy\n",
    "from sklearn import metrics\n",
    "print('--------------------- Comparision of Supervised Autoencoder with Baseline ------------------')\n",
    "print('\\nValidation Accuracy Score (Logistic Regression): 0.9121428571428571') # This was calculated previoulsy in FNN model\n",
    "print('Validation Accuracy Score (Supervised Autoencoder): ' +str(history.history['val_acc'][19]))"
   ]
  }
 ],
 "metadata": {
  "kernelspec": {
   "display_name": "Python 3",
   "language": "python",
   "name": "python3"
  },
  "language_info": {
   "codemirror_mode": {
    "name": "ipython",
    "version": 3
   },
   "file_extension": ".py",
   "mimetype": "text/x-python",
   "name": "python",
   "nbconvert_exporter": "python",
   "pygments_lexer": "ipython3",
   "version": "3.7.5"
  }
 },
 "nbformat": 4,
 "nbformat_minor": 2
}
